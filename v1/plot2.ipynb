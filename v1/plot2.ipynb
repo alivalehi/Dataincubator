
{
 "cells": [
  {
   "cell_type": "code",
   "execution_count": 1,
   "metadata": {
    "collapsed": true
   },
   "outputs": [],
   "source": [
    "import pandas as pd\n",
    "import numpy as np\n",
    "import matplotlib.pyplot as plt\n",
    "% matplotlib inline\n",
    "plt.style.use(\"ggplot\")"
   ]
  },
  {
   "cell_type": "code",
   "execution_count": 9,
   "metadata": {},
   "outputs": [
    {
     "data": {
      "text/html": [
       "<div>\n",
       "<table border=\"1\" class=\"dataframe\">\n",
       "  <thead>\n",
       "    <tr style=\"text-align: right;\">\n",
       "      <th></th>\n",
       "      <th>title</th>\n",
       "      <th>abstracts</th>\n",
       "      <th>authors_n</th>\n",
       "      <th>authors_a</th>\n",
       "      <th>subject</th>\n",
       "    </tr>\n",
       "  </thead>\n",
       "  <tbody>\n",
       "    <tr>\n",
       "      <th>3938</th>\n",
       "      <td>Title:\\nMicroscopic Piezoelectric Theory and E...</td>\n",
       "      <td>The lack of inversion symmetry in semiconduct...</td>\n",
       "      <td>['Yunhua Wang', 'Zongtan Wang', 'Jie Li', 'Jie...</td>\n",
       "      <td>['/find/cond-mat/1/au:+Wang_Y/0/1/0/all/0/1', ...</td>\n",
       "      <td>Condensed Matter &gt; Mesoscale and Nanoscale Phy...</td>\n",
       "    </tr>\n",
       "    <tr>\n",
       "      <th>3939</th>\n",
       "      <td>Title:\\nNon-Hermitian gauged topological laser...</td>\n",
       "      <td>Stable and phase-locked emission in an extend...</td>\n",
       "      <td>['Stefano Longhi']</td>\n",
       "      <td>['/find/physics/1/au:+Longhi_S/0/1/0/all/0/1']</td>\n",
       "      <td>Physics &gt; Optics</td>\n",
       "    </tr>\n",
       "    <tr>\n",
       "      <th>3940</th>\n",
       "      <td>Title:\\nExpectations of the Cosmic Antideutero...</td>\n",
       "      <td>The cosmic antideuteron is a promising probe ...</td>\n",
       "      <td>['Su-Jie Lin', 'Xiao-Jun Bi', 'Peng-Fei Yin']</td>\n",
       "      <td>['/find/astro-ph/1/au:+Lin_S/0/1/0/all/0/1', '...</td>\n",
       "      <td>Astrophysics &gt; High Energy Astrophysical Pheno...</td>\n",
       "    </tr>\n",
       "    <tr>\n",
       "      <th>3941</th>\n",
       "      <td>Title:\\nPerspectives on scaling and multiscali...</td>\n",
       "      <td>We revisit the well-known problem of multisca...</td>\n",
       "      <td>['Tirthankar Banerjee', 'Abhik Basu']</td>\n",
       "      <td>['/find/cond-mat/1/au:+Banerjee_T/0/1/0/all/0/...</td>\n",
       "      <td>Condensed Matter &gt; Statistical Mechanics</td>\n",
       "    </tr>\n",
       "    <tr>\n",
       "      <th>3942</th>\n",
       "      <td>Title:\\nUnitary $n$-designs via random quenche...</td>\n",
       "      <td>We present a general framework for the genera...</td>\n",
       "      <td>['B. Vermersch', 'A. Elben', 'M. Dalmonte', 'J...</td>\n",
       "      <td>['/find/quant-ph/1/au:+Vermersch_B/0/1/0/all/0...</td>\n",
       "      <td>Quantum Physics</td>\n",
       "    </tr>\n",
       "  </tbody>\n",
       "</table>\n",
       "</div>"
      ],
      "text/plain": [
       "                                                  title  \\\n",
       "3938  Title:\\nMicroscopic Piezoelectric Theory and E...   \n",
       "3939  Title:\\nNon-Hermitian gauged topological laser...   \n",
       "3940  Title:\\nExpectations of the Cosmic Antideutero...   \n",
       "3941  Title:\\nPerspectives on scaling and multiscali...   \n",
       "3942  Title:\\nUnitary $n$-designs via random quenche...   \n",
       "\n",
       "                                              abstracts  \\\n",
       "3938   The lack of inversion symmetry in semiconduct...   \n",
       "3939   Stable and phase-locked emission in an extend...   \n",
       "3940   The cosmic antideuteron is a promising probe ...   \n",
       "3941   We revisit the well-known problem of multisca...   \n",
       "3942   We present a general framework for the genera...   \n",
       "\n",
       "                                              authors_n  \\\n",
       "3938  ['Yunhua Wang', 'Zongtan Wang', 'Jie Li', 'Jie...   \n",
       "3939                                 ['Stefano Longhi']   \n",
       "3940      ['Su-Jie Lin', 'Xiao-Jun Bi', 'Peng-Fei Yin']   \n",
       "3941              ['Tirthankar Banerjee', 'Abhik Basu']   \n",
       "3942  ['B. Vermersch', 'A. Elben', 'M. Dalmonte', 'J...   \n",
       "\n",
       "                                              authors_a  \\\n",
       "3938  ['/find/cond-mat/1/au:+Wang_Y/0/1/0/all/0/1', ...   \n",
       "3939     ['/find/physics/1/au:+Longhi_S/0/1/0/all/0/1']   \n",
       "3940  ['/find/astro-ph/1/au:+Lin_S/0/1/0/all/0/1', '...   \n",
       "3941  ['/find/cond-mat/1/au:+Banerjee_T/0/1/0/all/0/...   \n",
       "3942  ['/find/quant-ph/1/au:+Vermersch_B/0/1/0/all/0...   \n",
       "\n",
       "                                                subject  \n",
       "3938  Condensed Matter > Mesoscale and Nanoscale Phy...  \n",
       "3939                                   Physics > Optics  \n",
       "3940  Astrophysics > High Energy Astrophysical Pheno...  \n",
       "3941           Condensed Matter > Statistical Mechanics  \n",
       "3942                                    Quantum Physics  "
      ]
     },
     "execution_count": 9,
     "metadata": {},
     "output_type": "execute_result"
    }
   ],
   "source": [
    "import glob\n",
    "allFiles = glob.glob(\"1801-*.csv\")\n",
    "frame = pd.DataFrame()\n",
    "list_ = []\n",
    "for file_ in allFiles:\n",
    "    df = pd.read_csv(file_,index_col=None, header=0)\n",
    "    list_.append(df)\n",
    "frame = pd.concat(list_)\n",
    "\n",
    "frame.drop('Unnamed: 0', axis = 1, inplace = True)\n",
    "frame.reset_index(drop = True, inplace = True)\n",
    "frame.tail()"
   ]
  },
  {
   "cell_type": "code",
   "execution_count": 10,
   "metadata": {},
   "outputs": [
    {
     "data": {
      "text/html": [
       "<div>\n",
       "<table border=\"1\" class=\"dataframe\">\n",
       "  <thead>\n",
       "    <tr style=\"text-align: right;\">\n",
       "      <th></th>\n",
       "      <th>title</th>\n",
       "      <th>abstracts</th>\n",
       "      <th>authors_n</th>\n",
       "      <th>authors_a</th>\n",
       "      <th>subject</th>\n",
       "    </tr>\n",
       "  </thead>\n",
       "  <tbody>\n",
       "    <tr>\n",
       "      <th>0</th>\n",
       "      <td>9.5 Hypotheses on the Informational Structure ...</td>\n",
       "      <td>This document has an unorthodox structure to ...</td>\n",
       "      <td>[William R. Softky]</td>\n",
       "      <td>['/find/q-bio/1/au:+Softky_W/0/1/0/all/0/1']</td>\n",
       "      <td>[Quantitative Biology ,  Neurons and Cognition]</td>\n",
       "    </tr>\n",
       "    <tr>\n",
       "      <th>1</th>\n",
       "      <td>A non-oscillatory energy-splitting method for ...</td>\n",
       "      <td>This paper proposes a new non-oscillatory {\\e...</td>\n",
       "      <td>[Xin Lei, Jiequan Li]</td>\n",
       "      <td>['/find/physics/1/au:+Lei_X/0/1/0/all/0/1', '/...</td>\n",
       "      <td>[Physics ,  Fluid Dynamics]</td>\n",
       "    </tr>\n",
       "    <tr>\n",
       "      <th>2</th>\n",
       "      <td>A Model for Data Citation in Astronomical Rese...</td>\n",
       "      <td>Standardizing and incentivizing the use of di...</td>\n",
       "      <td>[Jenny Novacescu, Joshua E.G. Peek, Sarah Weis...</td>\n",
       "      <td>['/find/cs/1/au:+Novacescu_J/0/1/0/all/0/1', '...</td>\n",
       "      <td>[Computer Science ,  Digital Libraries]</td>\n",
       "    </tr>\n",
       "    <tr>\n",
       "      <th>3</th>\n",
       "      <td>Analytical Inverter Delay Modeling Using Matla...</td>\n",
       "      <td>This paper presents a new analytical propagat...</td>\n",
       "      <td>[Walter Schneider]</td>\n",
       "      <td>['/find/cs/1/au:+Schneider_W/0/1/0/all/0/1']</td>\n",
       "      <td>[Computer Science ,  Other Computer Science]</td>\n",
       "    </tr>\n",
       "    <tr>\n",
       "      <th>4</th>\n",
       "      <td>Exploring the nature and synchronicity of earl...</td>\n",
       "      <td>We leverage new high-quality data from Hubble...</td>\n",
       "      <td>[R. Wagner-Kaiser, Dougal Mackey, Ata Sarajedi...</td>\n",
       "      <td>['/find/astro-ph/1/au:+Wagner_Kaiser_R/0/1/0/a...</td>\n",
       "      <td>[Astrophysics ,  Astrophysics of Galaxies]</td>\n",
       "    </tr>\n",
       "  </tbody>\n",
       "</table>\n",
       "</div>"
      ],
      "text/plain": [
       "                                               title  \\\n",
       "0  9.5 Hypotheses on the Informational Structure ...   \n",
       "1  A non-oscillatory energy-splitting method for ...   \n",
       "2  A Model for Data Citation in Astronomical Rese...   \n",
       "3  Analytical Inverter Delay Modeling Using Matla...   \n",
       "4  Exploring the nature and synchronicity of earl...   \n",
       "\n",
       "                                           abstracts  \\\n",
       "0   This document has an unorthodox structure to ...   \n",
       "1   This paper proposes a new non-oscillatory {\\e...   \n",
       "2   Standardizing and incentivizing the use of di...   \n",
       "3   This paper presents a new analytical propagat...   \n",
       "4   We leverage new high-quality data from Hubble...   \n",
       "\n",
       "                                           authors_n  \\\n",
       "0                                [William R. Softky]   \n",
       "1                              [Xin Lei, Jiequan Li]   \n",
       "2  [Jenny Novacescu, Joshua E.G. Peek, Sarah Weis...   \n",
       "3                                 [Walter Schneider]   \n",
       "4  [R. Wagner-Kaiser, Dougal Mackey, Ata Sarajedi...   \n",
       "\n",
       "                                           authors_a  \\\n",
       "0       ['/find/q-bio/1/au:+Softky_W/0/1/0/all/0/1']   \n",
       "1  ['/find/physics/1/au:+Lei_X/0/1/0/all/0/1', '/...   \n",
       "2  ['/find/cs/1/au:+Novacescu_J/0/1/0/all/0/1', '...   \n",
       "3       ['/find/cs/1/au:+Schneider_W/0/1/0/all/0/1']   \n",
       "4  ['/find/astro-ph/1/au:+Wagner_Kaiser_R/0/1/0/a...   \n",
       "\n",
       "                                           subject  \n",
       "0  [Quantitative Biology ,  Neurons and Cognition]  \n",
       "1                      [Physics ,  Fluid Dynamics]  \n",
       "2          [Computer Science ,  Digital Libraries]  \n",
       "3     [Computer Science ,  Other Computer Science]  \n",
       "4       [Astrophysics ,  Astrophysics of Galaxies]  "
      ]
     },
     "execution_count": 10,
     "metadata": {},
     "output_type": "execute_result"
    }
   ],
   "source": [
    "# stripping unwanted characters in the title\n",
    "frame['title'] = frame['title'].apply(lambda x: x.replace('Title:\\n', ''))\n",
    "#parsing author names\n",
    "frame['authors_n'] = frame['authors_n'].apply(lambda x: x.strip(\"',[]\").split(\"', '\"))\n",
    "#parsing subject\n",
    "frame['subject'] = frame['subject'].apply(lambda x: x.strip().split(\">\"))\n",
    "frame.tail()"
   ]
  },
  {
   "cell_type": "code",
   "execution_count": 35,
   "metadata": {},
   "outputs": [
    {
     "data": {
      "text/html": [
       "<div>\n",
       "<table border=\"1\" class=\"dataframe\">\n",
       "  <thead>\n",
       "    <tr style=\"text-align: right;\">\n",
       "      <th></th>\n",
       "      <th>title</th>\n",
       "      <th>abstracts</th>\n",
       "      <th>authors_n</th>\n",
       "      <th>authors_a</th>\n",
       "      <th>subject</th>\n",
       "      <th>subject_main</th>\n",
       "      <th>subject_sub</th>\n",
       "    </tr>\n",
       "  </thead>\n",
       "  <tbody>\n",
       "    <tr>\n",
       "      <th>0</th>\n",
       "      <td>9.5 Hypotheses on the Informational Structure ...</td>\n",
       "      <td>This document has an unorthodox structure to ...</td>\n",
       "      <td>[William R. Softky]</td>\n",
       "      <td>['/find/q-bio/1/au:+Softky_W/0/1/0/all/0/1']</td>\n",
       "      <td>[Quantitative Biology ,  Neurons and Cognition]</td>\n",
       "      <td>Quantitative Biology</td>\n",
       "      <td>Neurons and Cognition</td>\n",
       "    </tr>\n",
       "    <tr>\n",
       "      <th>1</th>\n",
       "      <td>A non-oscillatory energy-splitting method for ...</td>\n",
       "      <td>This paper proposes a new non-oscillatory {\\e...</td>\n",
       "      <td>[Xin Lei, Jiequan Li]</td>\n",
       "      <td>['/find/physics/1/au:+Lei_X/0/1/0/all/0/1', '/...</td>\n",
       "      <td>[Physics ,  Fluid Dynamics]</td>\n",
       "      <td>Physics</td>\n",
       "      <td>Fluid Dynamics</td>\n",
       "    </tr>\n",
       "    <tr>\n",
       "      <th>2</th>\n",
       "      <td>A Model for Data Citation in Astronomical Rese...</td>\n",
       "      <td>Standardizing and incentivizing the use of di...</td>\n",
       "      <td>[Jenny Novacescu, Joshua E.G. Peek, Sarah Weis...</td>\n",
       "      <td>['/find/cs/1/au:+Novacescu_J/0/1/0/all/0/1', '...</td>\n",
       "      <td>[Computer Science ,  Digital Libraries]</td>\n",
       "      <td>Computer Science</td>\n",
       "      <td>Digital Libraries</td>\n",
       "    </tr>\n",
       "    <tr>\n",
       "      <th>3</th>\n",
       "      <td>Analytical Inverter Delay Modeling Using Matla...</td>\n",
       "      <td>This paper presents a new analytical propagat...</td>\n",
       "      <td>[Walter Schneider]</td>\n",
       "      <td>['/find/cs/1/au:+Schneider_W/0/1/0/all/0/1']</td>\n",
       "      <td>[Computer Science ,  Other Computer Science]</td>\n",
       "      <td>Computer Science</td>\n",
       "      <td>Other Computer Science</td>\n",
       "    </tr>\n",
       "    <tr>\n",
       "      <th>4</th>\n",
       "      <td>Exploring the nature and synchronicity of earl...</td>\n",
       "      <td>We leverage new high-quality data from Hubble...</td>\n",
       "      <td>[R. Wagner-Kaiser, Dougal Mackey, Ata Sarajedi...</td>\n",
       "      <td>['/find/astro-ph/1/au:+Wagner_Kaiser_R/0/1/0/a...</td>\n",
       "      <td>[Astrophysics ,  Astrophysics of Galaxies]</td>\n",
       "      <td>Astrophysics</td>\n",
       "      <td>Astrophysics of Galaxies</td>\n",
       "    </tr>\n",
       "  </tbody>\n",
       "</table>\n",
       "</div>"
      ],
      "text/plain": [
       "                                               title  \\\n",
       "0  9.5 Hypotheses on the Informational Structure ...   \n",
       "1  A non-oscillatory energy-splitting method for ...   \n",
       "2  A Model for Data Citation in Astronomical Rese...   \n",
       "3  Analytical Inverter Delay Modeling Using Matla...   \n",
       "4  Exploring the nature and synchronicity of earl...   \n",
       "\n",
       "                                           abstracts  \\\n",
       "0   This document has an unorthodox structure to ...   \n",
       "1   This paper proposes a new non-oscillatory {\\e...   \n",
       "2   Standardizing and incentivizing the use of di...   \n",
       "3   This paper presents a new analytical propagat...   \n",
       "4   We leverage new high-quality data from Hubble...   \n",
       "\n",
       "                                           authors_n  \\\n",
       "0                                [William R. Softky]   \n",
       "1                              [Xin Lei, Jiequan Li]   \n",
       "2  [Jenny Novacescu, Joshua E.G. Peek, Sarah Weis...   \n",
       "3                                 [Walter Schneider]   \n",
       "4  [R. Wagner-Kaiser, Dougal Mackey, Ata Sarajedi...   \n",
       "\n",
       "                                           authors_a  \\\n",
       "0       ['/find/q-bio/1/au:+Softky_W/0/1/0/all/0/1']   \n",
       "1  ['/find/physics/1/au:+Lei_X/0/1/0/all/0/1', '/...   \n",
       "2  ['/find/cs/1/au:+Novacescu_J/0/1/0/all/0/1', '...   \n",
       "3       ['/find/cs/1/au:+Schneider_W/0/1/0/all/0/1']   \n",
       "4  ['/find/astro-ph/1/au:+Wagner_Kaiser_R/0/1/0/a...   \n",
       "\n",
       "                                           subject           subject_main  \\\n",
       "0  [Quantitative Biology ,  Neurons and Cognition]  Quantitative Biology    \n",
       "1                      [Physics ,  Fluid Dynamics]               Physics    \n",
       "2          [Computer Science ,  Digital Libraries]      Computer Science    \n",
       "3     [Computer Science ,  Other Computer Science]      Computer Science    \n",
       "4       [Astrophysics ,  Astrophysics of Galaxies]          Astrophysics    \n",
       "\n",
       "                 subject_sub  \n",
       "0      Neurons and Cognition  \n",
       "1             Fluid Dynamics  \n",
       "2          Digital Libraries  \n",
       "3     Other Computer Science  \n",
       "4   Astrophysics of Galaxies  "
      ]
     },
     "execution_count": 35,
     "metadata": {},
     "output_type": "execute_result"
    }
   ],
   "source": [
    "frame.drop_duplicates(subset = ['title'],inplace = True)\n",
    "frame['subject_main'] = frame['subject'].apply(lambda x: x[0])\n",
    "frame['subject_sub'] = frame['subject'].apply(lambda x: x[1] if len(x)>1 else np.nan)\n",
    "frame.head()\n",
    "#frame[frame['title'] == \"L'espace adélique d'un tore sur un corps de fonctions\"]['authors_a'].values"
   ]
  },
  {
   "cell_type": "markdown",
   "metadata": {},
   "source": [
    "# Exploring labels/target"
   ]
  },
  {
   "cell_type": "code",
   "execution_count": 37,
   "metadata": {},
   "outputs": [
    {
     "data": {
      "text/plain": [
       "Mathematics                                    709\n",
       "Computer Science                               607\n",
       "Astrophysics                                   315\n",
       "Condensed Matter                               306\n",
       "Physics                                        250\n",
       "Quantum Physics                                100\n",
       "Statistics                                      83\n",
       "High Energy Physics - Phenomenology             81\n",
       "General Relativity and Quantum Cosmology        68\n",
       "High Energy Physics - Theory                    61\n",
       "Electrical Engineering and Systems Science      43\n",
       "Quantitative Biology                            41\n",
       "Mathematical Physics                            37\n",
       "Nuclear Theory                                  32\n",
       "Quantitative Finance                            15\n",
       "High Energy Physics - Experiment                14\n",
       "Nonlinear Sciences                              12\n",
       "Nuclear Experiment                               9\n",
       "Economics                                        7\n",
       "High Energy Physics - Lattice                    5\n",
       "Name: subject_main, dtype: int64"
      ]
     },
     "execution_count": 37,
     "metadata": {},
     "output_type": "execute_result"
    }
   ],
   "source": [
    "frame.subject_main.value_counts()"
   ]
  },
  {
   "cell_type": "code",
   "execution_count": 36,
   "metadata": {},
   "outputs": [
    {
     "name": "stdout",
     "output_type": "stream",
     "text": [
      "['William R. Softky', 'Xin Lei', 'Jiequan Li', 'Jenny Novacescu', 'Joshua E.G. Peek']\n",
      "10871 10189\n"
     ]
    }
   ],
   "source": [
    "author_list = []\n",
    "frame.authors_n.apply(lambda x: author_list.extend(x))\n",
    "print(author_list[:5])\n",
    "print(len(author_list),len(set(author_list)))"
   ]
  },
  {
   "cell_type": "markdown",
   "metadata": {},
   "source": [
    "# NLP"
   ]
  },
  {
   "cell_type": "code",
   "execution_count": 40,
   "metadata": {
    "collapsed": true
   },
   "outputs": [],
   "source": [
    "documents = frame.abstracts.values"
   ]
  },
  {
   "cell_type": "code",
   "execution_count": 41,
   "metadata": {},
   "outputs": [
    {
     "data": {
      "text/plain": [
       "2795"
      ]
     },
     "execution_count": 41,
     "metadata": {},
     "output_type": "execute_result"
    }
   ],
   "source": [
    "len(documents)"
   ]
  },
  {
   "cell_type": "code",
   "execution_count": 76,
   "metadata": {
    "collapsed": true
   },
   "outputs": [],
   "source": [
    "from sklearn.cross_validation import train_test_split\n",
    "# Split to documents_train, documents_test, target_train, target_test\n",
    "documents_train, documents_test, target_train, target_test = train_test_split(\n",
    "     documents, frame.subject_main.values, test_size=0.2, random_state=42)"
   ]
  },
  {
   "cell_type": "code",
   "execution_count": 77,
   "metadata": {
    "collapsed": true
   },
   "outputs": [],
   "source": [
    "from nltk.tokenize import word_tokenize\n",
    "from nltk.stem.wordnet import WordNetLemmatizer\n",
    "import string\n",
    "\n",
    "wordnet = WordNetLemmatizer()\n",
    "def stem_tokens(tokens, wordnet):\n",
    "    stemmed = []\n",
    "    for item in tokens:\n",
    "        stemmed.append(wordnet.lemmatize(item))\n",
    "    return stemmed\n",
    "\n",
    "def tokenize(text):\n",
    "    tokens = word_tokenize(text)\n",
    "    stems = stem_tokens(tokens, wordnet)\n",
    "    return stems\n",
    "\n",
    "from string import punctuation\n",
    "def strip_punctuation(s):\n",
    "    return ''.join(c for c in s if c not in punctuation)\n",
    "\n",
    "def strip_digits(s):\n",
    "    return ''.join([c for c in s if not c.isdigit()])\n",
    "\n",
    "train_dict = {}\n",
    "for idx,text in enumerate(documents_train):\n",
    "    lowers = text.lower()\n",
    "    no_digit = strip_digits(lowers)\n",
    "    no_punctuation = strip_punctuation(no_digit)#lowers.translate(string.punctuation)\n",
    "    train_dict[idx] = no_punctuation\n",
    "    \n",
    "test_dict = {}\n",
    "for idx,text in enumerate(documents_test):\n",
    "    lowers = text.lower()\n",
    "    no_digit = strip_digits(lowers)\n",
    "    no_punctuation = strip_punctuation(no_digit)\n",
    "    test_dict[idx] = no_punctuation"
   ]
  },
  {
   "cell_type": "code",
   "execution_count": 78,
   "metadata": {
    "collapsed": true
   },
   "outputs": [],
   "source": [
    "from sklearn.feature_extraction.text import TfidfVectorizer\n",
    "# Create TfidfVectorizer, and name it vectorizer\n",
    "vectorizer = TfidfVectorizer(tokenizer=tokenize, stop_words='english', max_features=500)"
   ]
  },
  {
   "cell_type": "code",
   "execution_count": 79,
   "metadata": {
    "collapsed": true
   },
   "outputs": [],
   "source": [
    "vectors_train = vectorizer.fit_transform(train_dict.values()).toarray()"
   ]
  },
  {
   "cell_type": "code",
   "execution_count": 80,
   "metadata": {},
   "outputs": [
    {
     "name": "stdout",
     "output_type": "stream",
     "text": [
      "['able', 'account', 'accuracy', 'accurate', 'achieve', 'action', 'addition', 'agreement', 'aim', 'al', 'algebra', 'algorithm', 'allows', 'analysis', 'analyze', 'application', 'applied', 'apply', 'approach', 'approximation', 'arbitrary', 'architecture', 'area', 'article', 'associated', 'assumption', 'asymptotic', 'attack', 'available', 'average', 'b', 'background', 'band', 'based', 'basis', 'behavior', 'best', 'better', 'binary', 'black', 'bound', 'boundary', 'c', 'calculation', 'called', 'case', 'cell', 'central', 'certain', 'challenge']\n"
     ]
    }
   ],
   "source": [
    "# Get the vocab of tfidf\n",
    "vocab = vectorizer.get_feature_names()\n",
    "print(vocab[:50])"
   ]
  },
  {
   "cell_type": "code",
   "execution_count": 87,
   "metadata": {
    "collapsed": true
   },
   "outputs": [],
   "source": [
    "# Use the trained model to transform test data\n",
    "vectors_test = vectorizer.transform(test_dict.values()).toarray()"
   ]
  },
  {
   "cell_type": "markdown",
   "metadata": {},
   "source": [
    "## Use PCA to reduce dimensionality"
   ]
  },
  {
   "cell_type": "code",
   "execution_count": 88,
   "metadata": {
    "collapsed": true
   },
   "outputs": [],
   "source": [
    "from sklearn.preprocessing import StandardScaler\n",
    "from sklearn.decomposition import PCA\n",
    "\n",
    "# scaling\n",
    "scaler = StandardScaler()\n",
    "\n",
    "vec_train_scaled = scaler.fit_transform(vectors_train)\n",
    "vec_test_scaled = scaler.transform(vectors_test)\n",
    "\n",
    "#pca\n",
    "pca = PCA(n_components = 100)\n",
    "\n",
    "X_train_pca = pca.fit_transform(vec_train_scaled)\n",
    "\n",
    "X_test_pca = pca.transform(vec_test_scaled)"
   ]
  },
  {
   "cell_type": "code",
   "execution_count": 89,
   "metadata": {},
   "outputs": [
    {
     "data": {
      "image/png": "[encoded data removed]",
      "text/plain": [
       "<matplotlib.figure.Figure at 0x1195e1be0>"
      ]
     },
     "metadata": {},
     "output_type": "display_data"
    }
   ],
   "source": [
    "n_col_to_display = 20\n",
    "\n",
    "pca_range = np.arange(n_col_to_display) + 1\n",
    "pca_names = ['PCA_%s' % i for i in pca_range]\n",
    "\n",
    "plt.figure(figsize=(10, 10))\n",
    "plt.barh(pca_range, pca.explained_variance_ratio_[:n_col_to_display], align='center')\n",
    "xticks = plt.yticks(pca_range, pca_names)\n",
    "plt.xlabel('Proportion of Variance Explained')\n",
    "\n",
    "plt.show()"
   ]
  },
  {
   "cell_type": "markdown",
   "metadata": {},
   "source": [
    "## Classify main category"
   ]
  },
  {
   "cell_type": "markdown",
   "metadata": {},
   "source": [
    "### Naive Bayes"
   ]
  },
  {
   "cell_type": "code",
   "execution_count": 90,
   "metadata": {},
   "outputs": [
    {
     "data": {
      "text/plain": [
       "MultinomialNB(alpha=1.0, class_prior=None, fit_prior=True)"
      ]
     },
     "execution_count": 90,
     "metadata": {},
     "output_type": "execute_result"
    }
   ],
   "source": [
    "# Build a Naive-Bayes Classifier\n",
    "from sklearn.naive_bayes import MultinomialNB\n",
    "\n",
    "nbf = MultinomialNB()\n",
    "nbf.fit(vectors_train,target_train)"
   ]
  },
  {
   "cell_type": "code",
   "execution_count": 91,
   "metadata": {},
   "outputs": [
    {
     "data": {
      "text/plain": [
       "0.68202146690518783"
      ]
     },
     "execution_count": 91,
     "metadata": {},
     "output_type": "execute_result"
    }
   ],
   "source": [
    "# Get score for training set\n",
    "nbf.score(vectors_train,target_train)"
   ]
  },
  {
   "cell_type": "code",
   "execution_count": 92,
   "metadata": {},
   "outputs": [
    {
     "data": {
      "text/plain": [
       "0.65474060822898028"
      ]
     },
     "execution_count": 92,
     "metadata": {},
     "output_type": "execute_result"
    }
   ],
   "source": [
    "# Get score for test set\n",
    "nbf.score(vectors_test,target_test)"
   ]
  },
  {
   "cell_type": "markdown",
   "metadata": {},
   "source": [
    "### Random Forest without PCA"
   ]
  },
  {
   "cell_type": "code",
   "execution_count": 117,
   "metadata": {},
   "outputs": [
    {
     "data": {
      "text/plain": [
       "RandomForestClassifier(bootstrap=True, class_weight=None, criterion='gini',\n",
       "            max_depth=None, max_features='auto', max_leaf_nodes=None,\n",
       "            min_impurity_decrease=0.0, min_impurity_split=None,\n",
       "            min_samples_leaf=5, min_samples_split=2,\n",
       "            min_weight_fraction_leaf=0.0, n_estimators=10, n_jobs=-1,\n",
       "            oob_score=False, random_state=None, verbose=0,\n",
       "            warm_start=False)"
      ]
     },
     "execution_count": 117,
     "metadata": {},
     "output_type": "execute_result"
    }
   ],
   "source": [
    "# Build a Random Forest Classifier\n",
    "\n",
    "from sklearn.ensemble import RandomForestClassifier\n",
    "\n",
    "rfc = RandomForestClassifier(n_estimators = 10, min_samples_leaf = 5, n_jobs = -1)\n",
    "rfc.fit(vectors_train,target_train)"
   ]
  },
  {
   "cell_type": "code",
   "execution_count": 118,
   "metadata": {},
   "outputs": [
    {
     "data": {
      "text/plain": [
       "0.69141323792486586"
      ]
     },
     "execution_count": 118,
     "metadata": {},
     "output_type": "execute_result"
    }
   ],
   "source": [
    "# Get score for training set\n",
    "rfc.score(vectors_train,target_train)"
   ]
  },
  {
   "cell_type": "code",
   "execution_count": 119,
   "metadata": {},
   "outputs": [
    {
     "data": {
      "text/plain": [
       "0.60465116279069764"
      ]
     },
     "execution_count": 119,
     "metadata": {},
     "output_type": "execute_result"
    }
   ],
   "source": [
    "# Get score for test set\n",
    "rfc.score(vectors_test,target_test)"
   ]
  },
  {
   "cell_type": "code",
   "execution_count": 174,
   "metadata": {},
   "outputs": [
    {
     "name": "stdout",
     "output_type": "stream",
     "text": [
      "the most important vocabs: network, star, quantum, prove, model, data, phase, learning, performance, proposed, mass, field, space, temperature, effect, paper, algorithm, observed, approach, theorem\n"
     ]
    }
   ],
   "source": [
    "print(\"the most important vocabs: %s\" % (\", \".join(vocab[i] for i in rfc.feature_importances_.argsort()[-1:-21:-1])))"
   ]
  },
  {
   "cell_type": "code",
   "execution_count": 187,
   "metadata": {},
   "outputs": [
    {
     "name": "stdout",
     "output_type": "stream",
     "text": [
      "Feature ranking:\n",
      "1. network (0.043457)\n",
      "2. star (0.040168)\n",
      "3. quantum (0.035587)\n",
      "4. prove (0.025648)\n",
      "5. model (0.023444)\n",
      "6. data (0.022883)\n",
      "7. phase (0.021246)\n",
      "8. learning (0.020304)\n",
      "9. performance (0.016671)\n",
      "10. proposed (0.015493)\n"
     ]
    },
    {
     "data": {
      "image/png": "[encoded data removed]",
      "text/plain": [
       "<matplotlib.figure.Figure at 0x11f3bb978>"
      ]
     },
     "metadata": {},
     "output_type": "display_data"
    }
   ],
   "source": [
    "importances = rfc.feature_importances_\n",
    "std = np.std([tree.feature_importances_ for tree in rfc.estimators_],\n",
    "             axis=0)\n",
    "indices = importances.argsort()[-1:-11:-1]\n",
    "\n",
    "# Print the feature ranking\n",
    "print(\"Feature ranking:\")\n",
    "\n",
    "for f in range(10):\n",
    "    print(\"%d. %s (%f)\" % (f + 1, vocab[indices[f]], importances[indices[f]]))\n",
    "\n",
    "# Plot the feature importances of the forest\n",
    "plt.figure(figsize=(15,10))\n",
    "plt.title(\"Feature importances\")\n",
    "plt.bar(range(10), importances[indices],\n",
    "       color=\"r\", yerr=std[indices], align=\"center\")\n",
    "plt.xticks(range(10), [vocab[s] for s in indices])\n",
    "plt.xlim([-1, 10])\n",
    "plt.show()"
   ]
  },
  {
   "cell_type": "markdown",
   "metadata": {},
   "source": [
    "### Random Forest with PCA"
   ]
  },
  {
   "cell_type": "code",
   "execution_count": 157,
   "metadata": {},
   "outputs": [
    {
     "data": {
      "text/plain": [
       "RandomForestClassifier(bootstrap=True, class_weight=None, criterion='gini',\n",
       "            max_depth=None, max_features='auto', max_leaf_nodes=None,\n",
       "            min_impurity_decrease=0.0, min_impurity_split=None,\n",
       "            min_samples_leaf=10, min_samples_split=2,\n",
       "            min_weight_fraction_leaf=0.0, n_estimators=20, n_jobs=-1,\n",
       "            oob_score=False, random_state=None, verbose=0,\n",
       "            warm_start=False)"
      ]
     },
     "execution_count": 157,
     "metadata": {},
     "output_type": "execute_result"
    }
   ],
   "source": [
    "rfc_pca = RandomForestClassifier(n_estimators = 20, min_samples_leaf = 10, n_jobs = -1)\n",
    "rfc_pca.fit(X_train_pca,target_train)"
   ]
  },
  {
   "cell_type": "code",
   "execution_count": 158,
   "metadata": {},
   "outputs": [
    {
     "data": {
      "text/plain": [
       "0.75313059033989271"
      ]
     },
     "execution_count": 158,
     "metadata": {},
     "output_type": "execute_result"
    }
   ],
   "source": [
    "# Get score for training set\n",
    "rfc_pca.score(X_train_pca,target_train)"
   ]
  },
  {
   "cell_type": "code",
   "execution_count": 159,
   "metadata": {},
   "outputs": [
    {
     "data": {
      "text/plain": [
       "0.65116279069767447"
      ]
     },
     "execution_count": 159,
     "metadata": {},
     "output_type": "execute_result"
    }
   ],
   "source": [
    "# Get score for test set\n",
    "rfc_pca.score(X_test_pca,target_test)"
   ]
  },
  {
   "cell_type": "markdown",
   "metadata": {},
   "source": [
    "### Gradient Boosted Tree"
   ]
  },
  {
   "cell_type": "code",
   "execution_count": 175,
   "metadata": {},
   "outputs": [
    {
     "data": {
      "text/plain": [
       "GradientBoostingClassifier(criterion='friedman_mse', init=None,\n",
       "              learning_rate=1.0, loss='deviance', max_depth=3,\n",
       "              max_features='auto', max_leaf_nodes=None,\n",
       "              min_impurity_decrease=0.0, min_impurity_split=None,\n",
       "              min_samples_leaf=1, min_samples_split=2,\n",
       "              min_weight_fraction_leaf=0.0, n_estimators=300,\n",
       "              presort='auto', random_state=None, subsample=1.0, verbose=0,\n",
       "              warm_start=False)"
      ]
     },
     "execution_count": 175,
     "metadata": {},
     "output_type": "execute_result"
    }
   ],
   "source": [
    "from sklearn.ensemble import GradientBoostingClassifier\n",
    "\n",
    "gbt_pca = GradientBoostingClassifier(n_estimators=300, learning_rate=1.0, max_depth=3, max_features = 'auto')\n",
    "gbt_pca.fit(X_train_pca, target_train)"
   ]
  },
  {
   "cell_type": "code",
   "execution_count": 176,
   "metadata": {},
   "outputs": [
    {
     "data": {
      "text/plain": [
       "0.020125223613595707"
      ]
     },
     "execution_count": 176,
     "metadata": {},
     "output_type": "execute_result"
    }
   ],
   "source": [
    "# Get score for training set\n",
    "gbt_pca.score(X_train_pca, target_train)"
   ]
  },
  {
   "cell_type": "code",
   "execution_count": 188,
   "metadata": {},
   "outputs": [
    {
     "data": {
      "text/plain": [
       "AdaBoostClassifier(algorithm='SAMME.R', base_estimator=None,\n",
       "          learning_rate=1.0, n_estimators=300, random_state=None)"
      ]
     },
     "execution_count": 188,
     "metadata": {},
     "output_type": "execute_result"
    }
   ],
   "source": [
    "from sklearn.ensemble import AdaBoostClassifier\n",
    "adb = AdaBoostClassifier(n_estimators=300)\n",
    "adb.fit(vectors_train,target_train)"
   ]
  },
  {
   "cell_type": "code",
   "execution_count": 189,
   "metadata": {},
   "outputs": [
    {
     "data": {
      "text/plain": [
       "0.32558139534883723"
      ]
     },
     "execution_count": 189,
     "metadata": {},
     "output_type": "execute_result"
    }
   ],
   "source": [
    "adb.score(vectors_train,target_train)"
   ]
  },
  {
   "cell_type": "markdown",
   "metadata": {},
   "source": [
    "# Clustering"
   ]
  },
  {
   "cell_type": "code",
   "execution_count": 205,
   "metadata": {
    "collapsed": true
   },
   "outputs": [],
   "source": [
    "import random\n",
    "from scipy.spatial.distance import euclidean,cosine\n",
    "from collections import defaultdict\n",
    "from sklearn import datasets\n",
    "from sklearn.metrics import silhouette_score\n",
    "from itertools import combinations\n",
    "\n",
    "\n",
    "def k_means(X, k=5, max_iter=1000):\n",
    "    \"\"\"Performs k means\n",
    "\n",
    "    Args:\n",
    "    - X - feature matrix\n",
    "    - k - number of clusters\n",
    "    - max_iter - maximum iteratations\n",
    "\n",
    "    Returns:\n",
    "    - clusters - dict mapping cluster centers to observations\n",
    "    \"\"\"\n",
    "    centers = [tuple(pt) for pt in random.sample(list(X), k)]\n",
    "    for i in range(max_iter):\n",
    "        clusters = defaultdict(list)\n",
    "\n",
    "        for datapoint in X:\n",
    "            distances = [cosine(datapoint, center) for center in centers]\n",
    "            center = centers[np.argmin(distances)]\n",
    "            clusters[center].append(datapoint)\n",
    "\n",
    "        new_centers = []\n",
    "        for center, pts in clusters.items():\n",
    "            new_center = np.mean(pts, axis=0)\n",
    "            new_centers.append(tuple(new_center))\n",
    "\n",
    "        if set(new_centers) == set(centers):\n",
    "            break\n",
    "\n",
    "        centers = new_centers\n",
    "\n",
    "    return clusters\n",
    "\n",
    "def sse(clusters):\n",
    "    \"\"\"Sum squared euclidean distance of all points to their cluster center\"\"\"\n",
    "    sum_squared_residuals = 0\n",
    "    for center, pts in clusters.items():\n",
    "        for pt in pts:\n",
    "            sum_squared_residuals += euclidean(pt, center)**2\n",
    "    return sum_squared_residuals\n",
    "\n",
    "\n",
    "def plot_k_sse(X, min_k, max_k):\n",
    "    \"\"\"Plots sse for values of k between min_k and max_k\n",
    "\n",
    "    Args:\n",
    "    - X - feature matrix\n",
    "    - min_k, max_k - smallest and largest k to plot sse for\n",
    "    \"\"\"\n",
    "    k_values = range(min_k, max_k+1)\n",
    "    sse_values = []\n",
    "    for k in k_values:\n",
    "        clusters = k_means(X, k=k)\n",
    "        sse_values.append(sse(clusters))\n",
    "    plt.plot(k_values, sse_values)\n",
    "    plt.xlabel('k')\n",
    "    plt.ylabel('sum squared error')\n",
    "\n",
    "\n",
    "def turn_clusters_into_labels(clusters):\n",
    "    \"\"\"Converts clusters dict returned by k_means into X, y (labels)\n",
    "\n",
    "    Args:\n",
    "    - clusters - dict mapping cluster centers to observations\n",
    "    \"\"\"\n",
    "    labels = []\n",
    "    new_X = []\n",
    "    label = 0\n",
    "    for cluster, pts in clusters.items():\n",
    "        for pt in pts:\n",
    "            new_X.append(pt)\n",
    "            labels.append(label)\n",
    "        label += 1\n",
    "    return np.array(new_X), np.array(labels)\n",
    "\n",
    "\n",
    "def plot_k_silhouette(X, min_k, max_k):\n",
    "    \"\"\"Plots sse for values of k between min_k and max_k\n",
    "\n",
    "    Args:\n",
    "    - X - feature matrix\n",
    "    - min_k, max_k - smallest and largest k to plot sse for\n",
    "    \"\"\"\n",
    "    k_values = range(min_k, max_k+1)\n",
    "    silhouette_scores = []\n",
    "    for k in k_values:\n",
    "        clusters = k_means(X, k=k)\n",
    "        new_X, labels = turn_clusters_into_labels(clusters)\n",
    "        silhouette_scores.append(silhouette_score(new_X, labels))\n",
    "\n",
    "    plt.plot(k_values, silhouette_scores)\n",
    "    plt.xlabel('k')\n",
    "    plt.ylabel('silhouette score')\n",
    "\n",
    "\n",
    "def plot_all_2d(X, feature_names, k=3):\n",
    "    \"\"\"Generates all possible 2d plots of observations color coded by cluster ID\"\"\"\n",
    "    pairs = list(combinations(range(X.shape[1]), 2))\n",
    "    fig, axes = plt.subplots((len(pairs) / 2), 2)\n",
    "    flattened_axes = [ax for ls in axes for ax in ls]\n",
    "\n",
    "    for pair, ax in zip(pairs, flattened_axes):\n",
    "        pair = np.array(pair)\n",
    "        plot_data_2d(X[:, pair], feature_names[pair], ax, k=k)\n",
    "\n",
    "\n",
    "def plot_data_2d(X, plot_labels, ax, k=3):\n",
    "    \"\"\"Generates single 2d plot of observations color coded by cluster ID\"\"\"\n",
    "    clusters = k_means(X, k=k)\n",
    "    new_X, labels = turn_clusters_into_labels(clusters)\n",
    "    ax.scatter(new_X[:, 0], new_X[:, 1], c=labels)\n",
    "    ax.set_xlabel(plot_labels[0])\n",
    "    ax.set_ylabel(plot_labels[1])"
   ]
  },
  {
   "cell_type": "code",
   "execution_count": 200,
   "metadata": {
    "collapsed": true
   },
   "outputs": [],
   "source": [
    "clustered_X = k_means(X_train_pca, k=5, max_iter=1000)"
   ]
  },
  {
   "cell_type": "code",
   "execution_count": 206,
   "metadata": {},
   "outputs": [
    {
     "data": {
      "image/png": "[encoded data removed]",
      "text/plain": [
       "<matplotlib.figure.Figure at 0x129b143c8>"
      ]
     },
     "metadata": {},
     "output_type": "display_data"
    }
   ],
   "source": [
    "ax = plt.gca()\n",
    "plot_data_2d(X_train_pca, [0,1],ax, k=5)\n",
    "plt.show()"
   ]
  },
  {
   "cell_type": "code",
   "execution_count": null,
   "metadata": {
    "collapsed": true
   },
   "outputs": [],
   "source": []
  }
 ],
 "metadata": {
  "kernelspec": {
   "display_name": "Python 3",
   "language": "python",
   "name": "python3"
  },
  "language_info": {
   "codemirror_mode": {
    "name": "ipython",
    "version": 3
   },
   "file_extension": ".py",
   "mimetype": "text/x-python",
   "name": "python",
   "nbconvert_exporter": "python",
   "pygments_lexer": "ipython3",
   "version": "3.6.1"
  }
 },
 "nbformat": 4,
 "nbformat_minor": 2
}
